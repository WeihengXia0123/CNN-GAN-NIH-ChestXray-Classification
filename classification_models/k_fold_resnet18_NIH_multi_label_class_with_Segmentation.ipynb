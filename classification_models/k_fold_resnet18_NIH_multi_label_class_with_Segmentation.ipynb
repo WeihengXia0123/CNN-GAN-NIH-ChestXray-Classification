{
 "cells": [
  {
   "cell_type": "markdown",
   "metadata": {},
   "source": [
    "## Import Libraries"
   ]
  },
  {
   "cell_type": "code",
   "execution_count": 2,
   "metadata": {},
   "outputs": [
    {
     "name": "stdout",
     "output_type": "stream",
     "text": [
      "Model save/load location: /home/tu-anupamarajkumar/group/donut/medical_ip/trained_models/model_resenet18_multi_class_multi_label_k_fold_segmentation.pt\n"
     ]
    }
   ],
   "source": [
    "import numpy as np\n",
    "import pandas as pd\n",
    "from PIL import Image\n",
    "import torch\n",
    "from torch import optim, nn\n",
    "import torch.nn.functional as F\n",
    "from torchvision import transforms\n",
    "import torchvision\n",
    "from torch.utils.data.dataset import Dataset\n",
    "import matplotlib.pyplot as plt\n",
    "import os.path\n",
    "from os import path\n",
    "from collections import OrderedDict\n",
    "import time\n",
    "\n",
    "models_dir = os.path.expanduser('~/group/donut/medical_ip/trained_models')\n",
    "model_name = 'model_resenet18_multi_class_multi_label_k_fold_segmentation.pt'\n",
    "model_path = os.path.join(models_dir, model_name)\n",
    "from torch.utils.tensorboard import SummaryWriter  # to print to tensorboard\n",
    "print('Model save/load location: {}'.format(model_path))"
   ]
  },
  {
   "cell_type": "markdown",
   "metadata": {},
   "source": [
    "## Custom Dataset Loading Class"
   ]
  },
  {
   "cell_type": "code",
   "execution_count": 8,
   "metadata": {},
   "outputs": [],
   "source": [
    "label_list = ['Cardiomegaly','Emphysema','Effusion','Hernia','Nodule','Pneumothorax','Atelectasis','Pleural_Thickening','Mass','Edema','Consolidation',\n",
    "              'Infiltration','Fibrosis','Pneumonia','No Finding']"
   ]
  },
  {
   "cell_type": "code",
   "execution_count": 9,
   "metadata": {},
   "outputs": [],
   "source": [
    "def resolve_full_path(img_name):\n",
    "    is_found = False\n",
    "\n",
    "    # Read 1 image file\n",
    "    folder_idx_range = 3\n",
    "    img_path = ''\n",
    "    for folder_idx in range(folder_idx_range):\n",
    "        path_prefix = \"Preprocessing_Segmentation/images/\"\n",
    "        path_suffix = \"images_00\"+str(folder_idx)\n",
    "        img_folder_path =  path_prefix + path_suffix        \n",
    "        #print(img_folder_path)\n",
    "        img_path = os.path.join(img_folder_path, img_name)\n",
    "        #print(img_path)\n",
    "\n",
    "        if(path.exists(img_path)):\n",
    "            is_found = True\n",
    "            break\n",
    "    if(not is_found):\n",
    "        \n",
    "        raise Exception('Couldn\\'t find: {} last:{}'.format(img_name, img_path))\n",
    "    return img_path\n",
    "\n",
    "        \n",
    "class DatasetFromCSV(Dataset):\n",
    "    def __init__(self, csv_path=None, data_frame=None, transform=None):\n",
    "        if(csv_path is not None):\n",
    "            self.data = pd.read_csv(csv_path).head(20)\n",
    "        elif data_frame is not None:\n",
    "            self.data = data_frame\n",
    "        else:\n",
    "            raise Exception('No csv path or data frame provided')\n",
    "\n",
    "        self.data_len = len(self.data.index)            # csv data length\n",
    "        \n",
    "        self.image_names = np.array(self.data.iloc[:,0])  # image names\n",
    "        \n",
    "        # createa a tensor to store labels\n",
    "        self.labels = torch.zeros(self.data_len, 15)\n",
    "        labels = self.data.loc[:,'Finding Labels'].map(lambda x: x.split('|'))\n",
    "        self.multi_hot_encoding_label(labels)\n",
    "    \n",
    "        self.transform = transform\n",
    "        \n",
    "    def __len__(self):\n",
    "        return self.data_len\n",
    "    \n",
    "    def __getitem__(self, index):\n",
    "        # Read 1 image name\n",
    "        img_name = self.image_names[index]\n",
    "        img_path = resolve_full_path(img_name)\n",
    "        img_as_img = Image.open(img_path)\n",
    "\n",
    "        img_as_img = img_as_img.convert(\"RGB\")\n",
    "        # Transform image to tensor\n",
    "        img_as_tensor = self.transform(img_as_img)\n",
    "\n",
    "        # Read 1 label:\n",
    "        image_label = self.labels[index]\n",
    "\n",
    "        return img_as_tensor, image_label\n",
    "    \n",
    "    def multi_hot_encoding_label(self, labels):\n",
    "            for i,label in enumerate(labels):\n",
    "                for idx in range(len(label_list)):\n",
    "                    if label_list[idx] in label:\n",
    "                        self.labels[i][idx] = 1"
   ]
  },
  {
   "cell_type": "markdown",
   "metadata": {},
   "source": [
    "## Resample imbalanced dataset"
   ]
  },
  {
   "cell_type": "code",
   "execution_count": 10,
   "metadata": {},
   "outputs": [],
   "source": [
    "# Iterate through all_labels to calculate each case's weight\n",
    "def calculate_weight(data):\n",
    "    D_single_weight = calculate_single_label_weight(data)\n",
    "    weight = torch.zeros(data.shape[0])\n",
    "    \n",
    "    all_labels = data.loc[:,'Finding Labels'].map(lambda x: x.split('|'))\n",
    "    for i, labels in enumerate(all_labels):\n",
    "        for ii, label in enumerate(labels):\n",
    "            weight[i] += D_single_weight[label]\n",
    "    \n",
    "    return weight\n",
    "\n",
    "def calculate_single_label_weight(data):\n",
    "    # Calculate single label weight\n",
    "    D_sorted = count_label(data)\n",
    "    D_single_weight = D_sorted.copy()\n",
    "    for i, label in enumerate(D_single_weight.keys()):\n",
    "        D_single_weight[label] = 1.0/D_single_weight[label]*1e5\n",
    "        \n",
    "    return D_single_weight\n",
    "\n",
    "def count_label(data):\n",
    "    D_label_count = dict()\n",
    "    all_labels = data.loc[:,'Finding Labels'].map(lambda x: x.split('|'))\n",
    "    for i,labels in enumerate(all_labels):\n",
    "        for ii, label in enumerate(labels):\n",
    "            D_label_count[label] = D_label_count.get(label, 0) + 1\n",
    "    D = D_label_count\n",
    "    D_sorted = OrderedDict(sorted(D.items(), key=lambda x: x[1], reverse=True))\n",
    "    \n",
    "    return D_sorted"
   ]
  },
  {
   "cell_type": "markdown",
   "metadata": {},
   "source": [
    "## Use dataloader to load data"
   ]
  },
  {
   "cell_type": "code",
   "execution_count": 11,
   "metadata": {},
   "outputs": [
    {
     "name": "stdout",
     "output_type": "stream",
     "text": [
      "sample weights shape:  torch.Size([78534])\n",
      "training dataset len: 20\n",
      "testing dataset len: 20\n",
      "train_loader len:  2\n",
      "test_loader len:  2\n"
     ]
    }
   ],
   "source": [
    "# Define transforms\n",
    "transform = transforms.Compose([transforms.RandomHorizontalFlip(), # randomly flip and rotate\n",
    "                                transforms.RandomRotation(10),\n",
    "                                transforms.ToTensor(),\n",
    "                                transforms.Normalize((0.5, 0.5, 0.5), (0.5, 0.5, 0.5))])\n",
    "\n",
    "# Define custom data loader\n",
    "train_dataset = DatasetFromCSV('Preprocessing_Segmentation/trainData_Segmented.csv',transform=transform)\n",
    "valid_dataset = DatasetFromCSV('Preprocessing_Segmentation/ValData_Segmented.csv',transform=transform)\n",
    "batch_size_ = 10\n",
    "\n",
    "# Define sampler to resample the imbalanced dataset\n",
    "train_dataset_entry = pd.read_csv(\"Preprocessing_Segmentation/trainData_Segmented.csv\")\n",
    "valid_dataset_entry = pd.read_csv(\"Preprocessing_Segmentation/ValData_Segmented.csv\")\n",
    "\n",
    "sample_weight = calculate_weight(train_dataset_entry)\n",
    "print(\"sample weights shape: \", sample_weight.shape)\n",
    "weighted_sampler = torch.utils.data.sampler.WeightedRandomSampler(sample_weight, batch_size_)\n",
    "\n",
    "\n",
    "print(\"training dataset len:\", len(train_dataset))\n",
    "print(\"testing dataset len:\", len(valid_dataset))\n",
    "\n",
    "# Define two data loaders\n",
    "train_loader = torch.utils.data.DataLoader(dataset=train_dataset,\n",
    "                                                batch_size=batch_size_,\n",
    "                                                num_workers=6,\n",
    "                                                shuffle=True)\n",
    "\n",
    "valid_loader = torch.utils.data.DataLoader(dataset=valid_dataset,\n",
    "                                                batch_size=batch_size_,\n",
    "                                                num_workers=6,\n",
    "                                                shuffle=True)\n",
    "\n",
    "print(\"train_loader len: \", len(train_loader))\n",
    "print(\"test_loader len: \", len(valid_loader))"
   ]
  },
  {
   "cell_type": "markdown",
   "metadata": {},
   "source": [
    "## Show the loaded images"
   ]
  },
  {
   "cell_type": "code",
   "execution_count": 21,
   "metadata": {},
   "outputs": [
    {
     "name": "stderr",
     "output_type": "stream",
     "text": [
      "Clipping input data to the valid range for imshow with RGB data ([0..1] for floats or [0..255] for integers).\n"
     ]
    },
    {
     "name": "stdout",
     "output_type": "stream",
     "text": [
      "\n",
      "image batch shape:  torch.Size([10, 3, 512, 512])\n",
      "single image shape:  torch.Size([3, 512, 512])\n",
      "img_1channel shape:  (512, 512)\n",
      "img_3channel shape: torch.Size([512, 512, 3])\n",
      "labels: tensor([[0., 0., 0., 0., 0., 0., 0., 0., 0., 0., 0., 0., 0., 0., 1.],\n",
      "        [0., 0., 0., 1., 0., 0., 0., 0., 0., 0., 0., 0., 0., 0., 0.],\n",
      "        [0., 0., 0., 1., 0., 0., 0., 0., 0., 0., 0., 0., 0., 0., 0.],\n",
      "        [0., 0., 0., 0., 0., 0., 0., 0., 0., 0., 0., 0., 0., 0., 1.],\n",
      "        [0., 0., 0., 1., 0., 0., 0., 0., 0., 0., 0., 0., 0., 0., 0.],\n",
      "        [0., 0., 0., 1., 0., 0., 0., 0., 0., 0., 0., 0., 0., 0., 0.],\n",
      "        [0., 0., 0., 0., 0., 0., 0., 0., 0., 0., 0., 0., 0., 0., 1.],\n",
      "        [0., 0., 0., 0., 0., 0., 0., 0., 0., 0., 0., 0., 0., 0., 1.],\n",
      "        [0., 0., 0., 0., 1., 0., 0., 0., 1., 0., 0., 0., 0., 0., 0.],\n",
      "        [0., 0., 0., 1., 0., 0., 0., 0., 0., 0., 0., 1., 0., 0., 0.]])\n",
      "label type: <class 'torch.Tensor'>\n"
     ]
    },
    {
     "data": {
      "image/png": "[encoded data removed]",
      "text/plain": [
       "<Figure size 432x288 with 1 Axes>"
      ]
     },
     "metadata": {
      "needs_background": "light"
     },
     "output_type": "display_data"
    },
    {
     "data": {
      "image/png": "[encoded data removed]",
      "text/plain": [
       "<Figure size 432x288 with 1 Axes>"
      ]
     },
     "metadata": {
      "needs_background": "light"
     },
     "output_type": "display_data"
    }
   ],
   "source": [
    "image, label = next(iter(train_loader))\n",
    "\n",
    "print(\"\\nimage batch shape: \", image.shape)\n",
    "print(\"single image shape: \", image[9].shape)\n",
    "\n",
    "# 1 channel image\n",
    "img_1_channel = image.numpy()[9][1]\n",
    "print(\"img_1channel shape: \", img_1_channel.shape)\n",
    "plt.figure()\n",
    "plt.imshow(img_1_channel)\n",
    "\n",
    "# 3 channel image\n",
    "plt.figure()\n",
    "img_3_channel = image[9].permute(1, 2, 0)\n",
    "plt.imshow(img_3_channel, cmap='cool')\n",
    "print(\"img_3channel shape:\", img_3_channel.shape)\n",
    "\n",
    "# print label\n",
    "print(\"labels:\",label)\n",
    "print(\"label type:\",type(label))"
   ]
  },
  {
   "cell_type": "code",
   "execution_count": 39,
   "metadata": {},
   "outputs": [
    {
     "name": "stdout",
     "output_type": "stream",
     "text": [
      "labels: tensor([[0., 0., 0., 0., 0., 0., 0., 0., 0., 0., 0., 0., 0., 0., 1.],\n",
      "        [0., 0., 0., 0., 0., 0., 0., 0., 0., 0., 0., 0., 0., 0., 1.],\n",
      "        [0., 0., 0., 1., 0., 0., 0., 0., 0., 0., 0., 0., 0., 0., 0.],\n",
      "        [0., 0., 0., 1., 0., 0., 0., 0., 0., 0., 0., 0., 0., 0., 0.],\n",
      "        [0., 0., 1., 0., 0., 0., 0., 0., 0., 0., 0., 1., 0., 0., 0.],\n",
      "        [0., 0., 0., 1., 0., 0., 0., 0., 0., 0., 0., 1., 0., 0., 0.],\n",
      "        [0., 0., 0., 1., 0., 0., 0., 0., 0., 0., 0., 0., 0., 0., 0.],\n",
      "        [0., 0., 0., 0., 0., 0., 0., 0., 0., 0., 0., 0., 0., 0., 1.],\n",
      "        [0., 0., 0., 0., 0., 0., 0., 0., 0., 0., 0., 0., 0., 0., 1.],\n",
      "        [0., 0., 0., 1., 0., 0., 0., 0., 0., 0., 0., 0., 0., 0., 0.]])\n",
      "label type: <class 'torch.Tensor'>\n"
     ]
    }
   ],
   "source": [
    "# print label\n",
    "image, label = next(iter(train_loader))\n",
    "\n",
    "print(\"labels:\",label)\n",
    "print(\"label type:\",type(label))"
   ]
  },
  {
   "cell_type": "markdown",
   "metadata": {},
   "source": [
    "## Define the model with Transfer learning"
   ]
  },
  {
   "cell_type": "code",
   "execution_count": 14,
   "metadata": {},
   "outputs": [
    {
     "name": "stdout",
     "output_type": "stream",
     "text": [
      "Using device:  cuda\n"
     ]
    }
   ],
   "source": [
    "from torchvision import models\n",
    "\n",
    "# Use GPU if it's available\n",
    "device = torch.device(\"cuda\" if torch.cuda.is_available() else \"cpu\")\n",
    "print(\"Using device: \",device)\n",
    "\n",
    "def create_model():\n",
    "    \n",
    "    # Import pre-trained densenet-121\n",
    "    model = models.resnet18(pretrained=True)\n",
    "\n",
    "    # Freeze parameters so we don't backprop through them\n",
    "    for param in model.parameters():\n",
    "        param.requires_grad = False\n",
    "    # Change output to classfiy 14 conditioins + nothing.\n",
    "    # Change a new classifier\n",
    "    model.fc = nn.Sequential(\n",
    "        nn.Linear(512, 256),\n",
    "        nn.ReLU(),\n",
    "        nn.Dropout(0.2),\n",
    "        nn.Linear(256, 15)\n",
    "    )\n",
    "    return model\n",
    "model = create_model()\n",
    "#print(model)"
   ]
  },
  {
   "cell_type": "markdown",
   "metadata": {},
   "source": [
    "### Specify Loss function and Optimizer"
   ]
  },
  {
   "cell_type": "code",
   "execution_count": 41,
   "metadata": {},
   "outputs": [],
   "source": [
    "\n",
    "\n",
    "criterion = nn.BCEWithLogitsLoss()\n",
    "\n",
    "learning_rate = 0.001\n",
    "# Only train the classifier parameters, feature parameters are frozen\n",
    "optimizer = optim.Adam(model.fc.parameters(), lr=learning_rate)\n",
    "\n",
    "model = model.to(device);\n",
    "writer = SummaryWriter(f'run/k_fold_resnet18/training')\n"
   ]
  },
  {
   "cell_type": "markdown",
   "metadata": {},
   "source": [
    "# Kfold prep"
   ]
  },
  {
   "cell_type": "code",
   "execution_count": 42,
   "metadata": {},
   "outputs": [],
   "source": [
    "from sklearn.model_selection import KFold\n",
    "\n",
    "# Define sampler to resample the imbalanced dataset\n",
    "train_dataset_entry = pd.read_csv(\"Preprocessing_Segmentation/trainData_Segmented.csv\")\n",
    "valid_dataset_entry = pd.read_csv(\"Preprocessing_Segmentation/ValData_Segmented.csv\")\n",
    "\n",
    "n_splits = 5\n",
    "kf = KFold(n_splits = n_splits, shuffle = True, random_state = 2)\n",
    "\n",
    "\n",
    "non_test_set = pd.concat([train_dataset_entry, valid_dataset_entry], axis=0)\n",
    "\n",
    "\n",
    "    "
   ]
  },
  {
   "cell_type": "markdown",
   "metadata": {},
   "source": [
    "## Train the model"
   ]
  },
  {
   "cell_type": "code",
   "execution_count": 43,
   "metadata": {},
   "outputs": [
    {
     "name": "stdout",
     "output_type": "stream",
     "text": [
      "Fold: 1/5 \n",
      "Epoch: 1/30 \tTraining Loss: 0.216251 \tValidation Loss: 0.209597 Duration seconds: 399.66361808776855\n",
      "Validation loss decreased (inf --> 0.209597).  Saving model ...\n",
      "Epoch: 2/30 \tTraining Loss: 0.213572 \tValidation Loss: 0.210746 Duration seconds: 388.8423390388489\n",
      "Epoch: 3/30 \tTraining Loss: 0.212184 \tValidation Loss: 0.206587 Duration seconds: 386.40083837509155\n",
      "Validation loss decreased (0.209597 --> 0.206587).  Saving model ...\n",
      "Epoch: 4/30 \tTraining Loss: 0.211492 \tValidation Loss: 0.205593 Duration seconds: 383.4302022457123\n",
      "Validation loss decreased (0.206587 --> 0.205593).  Saving model ...\n",
      "Epoch: 5/30 \tTraining Loss: 0.210771 \tValidation Loss: 0.208180 Duration seconds: 383.35528683662415\n",
      "Epoch: 6/30 \tTraining Loss: 0.210109 \tValidation Loss: 0.208578 Duration seconds: 381.11279678344727\n",
      "Epoch: 7/30 \tTraining Loss: 0.209920 \tValidation Loss: 0.206930 Duration seconds: 379.5764629840851\n",
      "Epoch: 8/30 \tTraining Loss: 0.209776 \tValidation Loss: 0.205685 Duration seconds: 381.79888010025024\n",
      "Epoch: 9/30 \tTraining Loss: 0.209075 \tValidation Loss: 0.204593 Duration seconds: 381.6984670162201\n",
      "Validation loss decreased (0.205593 --> 0.204593).  Saving model ...\n",
      "Epoch: 10/30 \tTraining Loss: 0.208993 \tValidation Loss: 0.205232 Duration seconds: 381.48904490470886\n",
      "Epoch: 11/30 \tTraining Loss: 0.208724 \tValidation Loss: 0.205255 Duration seconds: 381.39333724975586\n",
      "Epoch: 12/30 \tTraining Loss: 0.208812 \tValidation Loss: 0.204966 Duration seconds: 379.591025352478\n",
      "Epoch: 13/30 \tTraining Loss: 0.208597 \tValidation Loss: 0.205538 Duration seconds: 379.74814009666443\n",
      "Epoch: 14/30 \tTraining Loss: 0.208669 \tValidation Loss: 0.205447 Duration seconds: 381.3977863788605\n",
      "Epoch: 15/30 \tTraining Loss: 0.208446 \tValidation Loss: 0.204477 Duration seconds: 384.10372591018677\n",
      "Validation loss decreased (0.204593 --> 0.204477).  Saving model ...\n",
      "Epoch: 16/30 \tTraining Loss: 0.208431 \tValidation Loss: 0.205483 Duration seconds: 381.0891830921173\n",
      "Epoch: 17/30 \tTraining Loss: 0.208206 \tValidation Loss: 0.204356 Duration seconds: 382.444034576416\n",
      "Validation loss decreased (0.204477 --> 0.204356).  Saving model ...\n",
      "Epoch: 18/30 \tTraining Loss: 0.208381 \tValidation Loss: 0.205358 Duration seconds: 379.24166464805603\n",
      "Epoch: 19/30 \tTraining Loss: 0.208284 \tValidation Loss: 0.205913 Duration seconds: 380.2075011730194\n",
      "Epoch: 20/30 \tTraining Loss: 0.208190 \tValidation Loss: 0.204471 Duration seconds: 379.6932933330536\n",
      "Epoch: 21/30 \tTraining Loss: 0.208275 \tValidation Loss: 0.204718 Duration seconds: 378.44493317604065\n",
      "Epoch: 22/30 \tTraining Loss: 0.208174 \tValidation Loss: 0.204705 Duration seconds: 386.7908470630646\n",
      "Epoch: 23/30 \tTraining Loss: 0.208064 \tValidation Loss: 0.204347 Duration seconds: 386.17097759246826\n",
      "Validation loss decreased (0.204356 --> 0.204347).  Saving model ...\n",
      "Epoch: 24/30 \tTraining Loss: 0.207993 \tValidation Loss: 0.205177 Duration seconds: 383.34964656829834\n",
      "Epoch: 25/30 \tTraining Loss: 0.208173 \tValidation Loss: 0.204672 Duration seconds: 385.87260937690735\n",
      "Epoch: 26/30 \tTraining Loss: 0.208166 \tValidation Loss: 0.204505 Duration seconds: 386.67798948287964\n",
      "Epoch: 27/30 \tTraining Loss: 0.208012 \tValidation Loss: 0.203632 Duration seconds: 376.2805349826813\n",
      "Validation loss decreased (0.204347 --> 0.203632).  Saving model ...\n",
      "Epoch: 28/30 \tTraining Loss: 0.207924 \tValidation Loss: 0.204505 Duration seconds: 381.9597556591034\n",
      "Epoch: 29/30 \tTraining Loss: 0.208013 \tValidation Loss: 0.205187 Duration seconds: 387.8303656578064\n",
      "Epoch: 30/30 \tTraining Loss: 0.208151 \tValidation Loss: 0.204107 Duration seconds: 387.4764897823334\n",
      "Fold: 1/5 \n",
      "Epoch: 1/30 \tTraining Loss: 0.207508 \tValidation Loss: 0.206395 Duration seconds: 387.465852022171\n",
      "Validation loss decreased (inf --> 0.206395).  Saving model ...\n",
      "Epoch: 2/30 \tTraining Loss: 0.207512 \tValidation Loss: 0.208125 Duration seconds: 386.54537296295166\n",
      "Epoch: 3/30 \tTraining Loss: 0.207384 \tValidation Loss: 0.206150 Duration seconds: 384.74009895324707\n",
      "Validation loss decreased (0.206395 --> 0.206150).  Saving model ...\n",
      "Epoch: 4/30 \tTraining Loss: 0.207322 \tValidation Loss: 0.206188 Duration seconds: 387.41406202316284\n",
      "Epoch: 5/30 \tTraining Loss: 0.207304 \tValidation Loss: 0.206891 Duration seconds: 387.02610063552856\n",
      "Epoch: 6/30 \tTraining Loss: 0.207256 \tValidation Loss: 0.206418 Duration seconds: 385.9797840118408\n",
      "Epoch: 7/30 \tTraining Loss: 0.207396 \tValidation Loss: 0.206791 Duration seconds: 388.18958806991577\n",
      "Epoch: 8/30 \tTraining Loss: 0.206950 \tValidation Loss: 0.207211 Duration seconds: 385.0106027126312\n",
      "Epoch: 9/30 \tTraining Loss: 0.207147 \tValidation Loss: 0.205632 Duration seconds: 385.8932394981384\n",
      "Validation loss decreased (0.206150 --> 0.205632).  Saving model ...\n",
      "Epoch: 10/30 \tTraining Loss: 0.207111 \tValidation Loss: 0.206932 Duration seconds: 387.70992827415466\n",
      "Epoch: 11/30 \tTraining Loss: 0.207253 \tValidation Loss: 0.205779 Duration seconds: 403.8231041431427\n",
      "Epoch: 12/30 \tTraining Loss: 0.207224 \tValidation Loss: 0.206196 Duration seconds: 400.2297685146332\n",
      "Epoch: 13/30 \tTraining Loss: 0.206945 \tValidation Loss: 0.206704 Duration seconds: 405.1288733482361\n",
      "Epoch: 14/30 \tTraining Loss: 0.207169 \tValidation Loss: 0.206435 Duration seconds: 404.4293005466461\n",
      "Epoch: 15/30 \tTraining Loss: 0.207149 \tValidation Loss: 0.206115 Duration seconds: 404.7181785106659\n",
      "Epoch: 16/30 \tTraining Loss: 0.207177 \tValidation Loss: 0.206176 Duration seconds: 404.73236441612244\n",
      "Epoch: 17/30 \tTraining Loss: 0.207256 \tValidation Loss: 0.206036 Duration seconds: 406.49885845184326\n",
      "Epoch: 18/30 \tTraining Loss: 0.207182 \tValidation Loss: 0.206521 Duration seconds: 403.56935477256775\n",
      "Epoch: 19/30 \tTraining Loss: 0.207136 \tValidation Loss: 0.206524 Duration seconds: 407.42685985565186\n",
      "Epoch: 20/30 \tTraining Loss: 0.207144 \tValidation Loss: 0.206166 Duration seconds: 405.6745879650116\n",
      "Epoch: 21/30 \tTraining Loss: 0.207072 \tValidation Loss: 0.206093 Duration seconds: 403.2981188297272\n",
      "Epoch: 22/30 \tTraining Loss: 0.207231 \tValidation Loss: 0.207032 Duration seconds: 405.7882659435272\n",
      "Epoch: 23/30 \tTraining Loss: 0.207075 \tValidation Loss: 0.205596 Duration seconds: 404.7123408317566\n",
      "Validation loss decreased (0.205632 --> 0.205596).  Saving model ...\n",
      "Epoch: 24/30 \tTraining Loss: 0.206798 \tValidation Loss: 0.206092 Duration seconds: 404.9398000240326\n",
      "Epoch: 25/30 \tTraining Loss: 0.207035 \tValidation Loss: 0.206796 Duration seconds: 408.0597651004791\n",
      "Epoch: 26/30 \tTraining Loss: 0.207036 \tValidation Loss: 0.206575 Duration seconds: 407.71922755241394\n",
      "Epoch: 27/30 \tTraining Loss: 0.207074 \tValidation Loss: 0.206578 Duration seconds: 408.5117573738098\n",
      "Epoch: 28/30 \tTraining Loss: 0.207067 \tValidation Loss: 0.206897 Duration seconds: 412.99881649017334\n",
      "Epoch: 29/30 \tTraining Loss: 0.207111 \tValidation Loss: 0.206371 Duration seconds: 414.61057329177856\n",
      "Epoch: 30/30 \tTraining Loss: 0.207011 \tValidation Loss: 0.206972 Duration seconds: 415.3837056159973\n",
      "Fold: 1/5 \n",
      "Epoch: 1/30 \tTraining Loss: 0.207503 \tValidation Loss: 0.203663 Duration seconds: 411.97186946868896\n",
      "Validation loss decreased (inf --> 0.203663).  Saving model ...\n",
      "Epoch: 2/30 \tTraining Loss: 0.207539 \tValidation Loss: 0.203251 Duration seconds: 413.610582113266\n",
      "Validation loss decreased (0.203663 --> 0.203251).  Saving model ...\n",
      "Epoch: 3/30 \tTraining Loss: 0.207514 \tValidation Loss: 0.203385 Duration seconds: 415.7424874305725\n",
      "Epoch: 4/30 \tTraining Loss: 0.207487 \tValidation Loss: 0.203525 Duration seconds: 414.62073945999146\n",
      "Epoch: 5/30 \tTraining Loss: 0.207552 \tValidation Loss: 0.203719 Duration seconds: 413.1630382537842\n",
      "Epoch: 6/30 \tTraining Loss: 0.207454 \tValidation Loss: 0.205238 Duration seconds: 407.6028845310211\n",
      "Epoch: 7/30 \tTraining Loss: 0.207680 \tValidation Loss: 0.203214 Duration seconds: 407.91255235671997\n",
      "Validation loss decreased (0.203251 --> 0.203214).  Saving model ...\n",
      "Epoch: 8/30 \tTraining Loss: 0.207607 \tValidation Loss: 0.203158 Duration seconds: 409.3580574989319\n",
      "Validation loss decreased (0.203214 --> 0.203158).  Saving model ...\n",
      "Epoch: 9/30 \tTraining Loss: 0.207481 \tValidation Loss: 0.203780 Duration seconds: 409.84842109680176\n",
      "Epoch: 10/30 \tTraining Loss: 0.207678 \tValidation Loss: 0.203186 Duration seconds: 408.012305021286\n",
      "Epoch: 11/30 \tTraining Loss: 0.207545 \tValidation Loss: 0.203980 Duration seconds: 408.5037751197815\n"
     ]
    },
    {
     "name": "stdout",
     "output_type": "stream",
     "text": [
      "Epoch: 12/30 \tTraining Loss: 0.207519 \tValidation Loss: 0.203344 Duration seconds: 408.6815984249115\n",
      "Epoch: 13/30 \tTraining Loss: 0.207474 \tValidation Loss: 0.203654 Duration seconds: 408.60748767852783\n",
      "Epoch: 14/30 \tTraining Loss: 0.207519 \tValidation Loss: 0.203917 Duration seconds: 408.998428106308\n",
      "Epoch: 15/30 \tTraining Loss: 0.207559 \tValidation Loss: 0.203761 Duration seconds: 412.59644293785095\n",
      "Epoch: 16/30 \tTraining Loss: 0.207561 \tValidation Loss: 0.206130 Duration seconds: 416.49101161956787\n",
      "Epoch: 17/30 \tTraining Loss: 0.207337 \tValidation Loss: 0.203327 Duration seconds: 417.58095836639404\n",
      "Epoch: 18/30 \tTraining Loss: 0.207384 \tValidation Loss: 0.203054 Duration seconds: 402.94732117652893\n",
      "Validation loss decreased (0.203158 --> 0.203054).  Saving model ...\n",
      "Epoch: 19/30 \tTraining Loss: 0.207388 \tValidation Loss: 0.203481 Duration seconds: 388.828462600708\n",
      "Epoch: 20/30 \tTraining Loss: 0.207276 \tValidation Loss: 0.204129 Duration seconds: 389.9702498912811\n",
      "Epoch: 21/30 \tTraining Loss: 0.207492 \tValidation Loss: 0.204535 Duration seconds: 382.3786201477051\n",
      "Epoch: 22/30 \tTraining Loss: 0.207216 \tValidation Loss: 0.204179 Duration seconds: 426.08956480026245\n",
      "Epoch: 23/30 \tTraining Loss: 0.207487 \tValidation Loss: 0.203425 Duration seconds: 479.26647305488586\n",
      "Epoch: 24/30 \tTraining Loss: 0.207495 \tValidation Loss: 0.204019 Duration seconds: 522.5538697242737\n",
      "Epoch: 25/30 \tTraining Loss: 0.207404 \tValidation Loss: 0.203672 Duration seconds: 492.275141954422\n",
      "Epoch: 26/30 \tTraining Loss: 0.207345 \tValidation Loss: 0.203947 Duration seconds: 469.5429825782776\n",
      "Epoch: 27/30 \tTraining Loss: 0.207204 \tValidation Loss: 0.204877 Duration seconds: 447.16769337654114\n",
      "Epoch: 28/30 \tTraining Loss: 0.207469 \tValidation Loss: 0.203941 Duration seconds: 480.77595829963684\n",
      "Epoch: 29/30 \tTraining Loss: 0.207255 \tValidation Loss: 0.203844 Duration seconds: 391.1517221927643\n",
      "Epoch: 30/30 \tTraining Loss: 0.207214 \tValidation Loss: 0.203864 Duration seconds: 389.92121744155884\n",
      "Fold: 1/5 \n",
      "Epoch: 1/30 \tTraining Loss: 0.207216 \tValidation Loss: 0.204687 Duration seconds: 390.089857339859\n",
      "Validation loss decreased (inf --> 0.204687).  Saving model ...\n",
      "Epoch: 2/30 \tTraining Loss: 0.207147 \tValidation Loss: 0.204889 Duration seconds: 392.84708857536316\n",
      "Epoch: 3/30 \tTraining Loss: 0.207208 \tValidation Loss: 0.205227 Duration seconds: 390.3883981704712\n",
      "Epoch: 4/30 \tTraining Loss: 0.207087 \tValidation Loss: 0.205472 Duration seconds: 390.1988842487335\n",
      "Epoch: 5/30 \tTraining Loss: 0.207127 \tValidation Loss: 0.204034 Duration seconds: 388.88448762893677\n",
      "Validation loss decreased (0.204687 --> 0.204034).  Saving model ...\n",
      "Epoch: 6/30 \tTraining Loss: 0.207134 \tValidation Loss: 0.204514 Duration seconds: 390.50803899765015\n",
      "Epoch: 7/30 \tTraining Loss: 0.207080 \tValidation Loss: 0.205250 Duration seconds: 390.96814465522766\n",
      "Epoch: 8/30 \tTraining Loss: 0.207126 \tValidation Loss: 0.204492 Duration seconds: 390.68929386138916\n",
      "Epoch: 9/30 \tTraining Loss: 0.207037 \tValidation Loss: 0.205626 Duration seconds: 390.932119846344\n",
      "Epoch: 10/30 \tTraining Loss: 0.206946 \tValidation Loss: 0.205300 Duration seconds: 390.1994831562042\n",
      "Epoch: 11/30 \tTraining Loss: 0.207063 \tValidation Loss: 0.204199 Duration seconds: 389.3697350025177\n",
      "Epoch: 12/30 \tTraining Loss: 0.207035 \tValidation Loss: 0.204417 Duration seconds: 391.10341143608093\n",
      "Epoch: 13/30 \tTraining Loss: 0.207057 \tValidation Loss: 0.205069 Duration seconds: 391.1016743183136\n",
      "Epoch: 14/30 \tTraining Loss: 0.206983 \tValidation Loss: 0.204191 Duration seconds: 389.01054096221924\n",
      "Epoch: 15/30 \tTraining Loss: 0.206945 \tValidation Loss: 0.204576 Duration seconds: 390.33862924575806\n",
      "Epoch: 16/30 \tTraining Loss: 0.206971 \tValidation Loss: 0.204800 Duration seconds: 392.8117353916168\n",
      "Epoch: 17/30 \tTraining Loss: 0.206870 \tValidation Loss: 0.204858 Duration seconds: 394.100643157959\n",
      "Epoch: 18/30 \tTraining Loss: 0.206976 \tValidation Loss: 0.204869 Duration seconds: 396.12960863113403\n",
      "Epoch: 19/30 \tTraining Loss: 0.206975 \tValidation Loss: 0.204367 Duration seconds: 394.4287121295929\n",
      "Epoch: 20/30 \tTraining Loss: 0.206945 \tValidation Loss: 0.204441 Duration seconds: 398.1032371520996\n",
      "Epoch: 21/30 \tTraining Loss: 0.207134 \tValidation Loss: 0.204359 Duration seconds: 395.2529101371765\n",
      "Epoch: 22/30 \tTraining Loss: 0.207110 \tValidation Loss: 0.204472 Duration seconds: 395.6130657196045\n",
      "Epoch: 23/30 \tTraining Loss: 0.206857 \tValidation Loss: 0.203993 Duration seconds: 394.3283951282501\n",
      "Validation loss decreased (0.204034 --> 0.203993).  Saving model ...\n",
      "Epoch: 24/30 \tTraining Loss: 0.206949 \tValidation Loss: 0.204622 Duration seconds: 398.38545536994934\n",
      "Epoch: 25/30 \tTraining Loss: 0.206919 \tValidation Loss: 0.204945 Duration seconds: 397.0283041000366\n",
      "Epoch: 26/30 \tTraining Loss: 0.206876 \tValidation Loss: 0.204210 Duration seconds: 394.0103118419647\n",
      "Epoch: 27/30 \tTraining Loss: 0.207028 \tValidation Loss: 0.204293 Duration seconds: 390.295734167099\n",
      "Epoch: 28/30 \tTraining Loss: 0.206704 \tValidation Loss: 0.204502 Duration seconds: 390.60134100914\n",
      "Epoch: 29/30 \tTraining Loss: 0.206781 \tValidation Loss: 0.205246 Duration seconds: 390.0978910923004\n",
      "Epoch: 30/30 \tTraining Loss: 0.206917 \tValidation Loss: 0.205150 Duration seconds: 388.81145191192627\n",
      "Fold: 1/5 \n",
      "Epoch: 1/30 \tTraining Loss: 0.207257 \tValidation Loss: 0.204162 Duration seconds: 390.24332642555237\n",
      "Validation loss decreased (inf --> 0.204162).  Saving model ...\n",
      "Epoch: 2/30 \tTraining Loss: 0.206976 \tValidation Loss: 0.204300 Duration seconds: 389.7696843147278\n",
      "Epoch: 3/30 \tTraining Loss: 0.207023 \tValidation Loss: 0.203923 Duration seconds: 388.72061562538147\n",
      "Validation loss decreased (0.204162 --> 0.203923).  Saving model ...\n",
      "Epoch: 4/30 \tTraining Loss: 0.207122 \tValidation Loss: 0.204108 Duration seconds: 388.02797961235046\n",
      "Epoch: 5/30 \tTraining Loss: 0.206953 \tValidation Loss: 0.203773 Duration seconds: 389.66082429885864\n",
      "Validation loss decreased (0.203923 --> 0.203773).  Saving model ...\n",
      "Epoch: 6/30 \tTraining Loss: 0.207107 \tValidation Loss: 0.205662 Duration seconds: 387.9777247905731\n",
      "Epoch: 7/30 \tTraining Loss: 0.206996 \tValidation Loss: 0.203774 Duration seconds: 389.7654709815979\n",
      "Epoch: 8/30 \tTraining Loss: 0.206963 \tValidation Loss: 0.203697 Duration seconds: 391.04503440856934\n",
      "Validation loss decreased (0.203773 --> 0.203697).  Saving model ...\n",
      "Epoch: 9/30 \tTraining Loss: 0.206896 \tValidation Loss: 0.205141 Duration seconds: 389.32046389579773\n",
      "Epoch: 10/30 \tTraining Loss: 0.207003 \tValidation Loss: 0.205078 Duration seconds: 388.2798993587494\n",
      "Epoch: 11/30 \tTraining Loss: 0.207082 \tValidation Loss: 0.204514 Duration seconds: 389.3168339729309\n",
      "Epoch: 12/30 \tTraining Loss: 0.206861 \tValidation Loss: 0.205226 Duration seconds: 389.14586091041565\n",
      "Epoch: 13/30 \tTraining Loss: 0.207095 \tValidation Loss: 0.204499 Duration seconds: 389.3378734588623\n",
      "Epoch: 14/30 \tTraining Loss: 0.206893 \tValidation Loss: 0.203927 Duration seconds: 388.80822229385376\n",
      "Epoch: 15/30 \tTraining Loss: 0.206813 \tValidation Loss: 0.204980 Duration seconds: 388.7094259262085\n",
      "Epoch: 16/30 \tTraining Loss: 0.206922 \tValidation Loss: 0.204072 Duration seconds: 389.9869315624237\n",
      "Epoch: 17/30 \tTraining Loss: 0.206978 \tValidation Loss: 0.204044 Duration seconds: 389.9955487251282\n",
      "Epoch: 18/30 \tTraining Loss: 0.206975 \tValidation Loss: 0.204627 Duration seconds: 388.1112976074219\n",
      "Epoch: 19/30 \tTraining Loss: 0.206808 \tValidation Loss: 0.204239 Duration seconds: 387.5966377258301\n",
      "Epoch: 20/30 \tTraining Loss: 0.207005 \tValidation Loss: 0.204198 Duration seconds: 388.39644956588745\n",
      "Epoch: 21/30 \tTraining Loss: 0.206989 \tValidation Loss: 0.204787 Duration seconds: 390.52732706069946\n",
      "Epoch: 22/30 \tTraining Loss: 0.207118 \tValidation Loss: 0.205002 Duration seconds: 387.74429178237915\n",
      "Epoch: 23/30 \tTraining Loss: 0.206921 \tValidation Loss: 0.204213 Duration seconds: 386.9796030521393\n",
      "Epoch: 24/30 \tTraining Loss: 0.207225 \tValidation Loss: 0.205648 Duration seconds: 388.36756110191345\n",
      "Epoch: 25/30 \tTraining Loss: 0.206719 \tValidation Loss: 0.205466 Duration seconds: 389.03009510040283\n",
      "Epoch: 26/30 \tTraining Loss: 0.206727 \tValidation Loss: 0.203905 Duration seconds: 389.2476396560669\n",
      "Epoch: 27/30 \tTraining Loss: 0.206952 \tValidation Loss: 0.204316 Duration seconds: 388.4613995552063\n"
     ]
    },
    {
     "name": "stdout",
     "output_type": "stream",
     "text": [
      "Epoch: 28/30 \tTraining Loss: 0.207201 \tValidation Loss: 0.204538 Duration seconds: 390.814945936203\n",
      "Epoch: 29/30 \tTraining Loss: 0.207022 \tValidation Loss: 0.204810 Duration seconds: 388.2859671115875\n",
      "Epoch: 30/30 \tTraining Loss: 0.207081 \tValidation Loss: 0.204435 Duration seconds: 390.43908619880676\n",
      "[0.20363226816355884, 0.20559562756432023, 0.20305355345198906, 0.20399307416680668, 0.20369704270209169]\n"
     ]
    }
   ],
   "source": [
    "from torch.autograd import Variable\n",
    "\n",
    "# number of epochs to train the model\n",
    "n_epochs = 30\n",
    "k =1\n",
    "valid_losses = []\n",
    "train_losses = []\n",
    "for  train_index, valid_index in kf.split(non_test_set):\n",
    "    train = non_test_set.iloc[train_index]\n",
    "    valid =  non_test_set.iloc[valid_index]\n",
    "    # Define custom data loader\n",
    "    train_dataset = DatasetFromCSV(data_frame=train,transform=transform)\n",
    "    valid_dataset = DatasetFromCSV(data_frame=valid,transform=transform)\n",
    "    batch_size_ = 10\n",
    "    # Define two data loaders\n",
    "    train_loader = torch.utils.data.DataLoader(dataset=train_dataset,\n",
    "                                                    batch_size=batch_size_,\n",
    "                                                    num_workers=6,\n",
    "                                                    shuffle=True)\n",
    "\n",
    "    valid_loader = torch.utils.data.DataLoader(dataset=valid_dataset,\n",
    "                                                    batch_size=batch_size_,\n",
    "                                                    num_workers=6,\n",
    "                                                    shuffle=True)\n",
    "    \n",
    "    print('Fold: {}/{} '.format(k, n_splits,))\n",
    "    # k fold setup before\n",
    "    valid_loss_min = np.Inf # track change in validation loss\n",
    "    writer.add_scalar('learning rate', learning_rate)\n",
    "    for epoch in range(1, n_epochs+1):\n",
    "        t0 = time.time()\n",
    "        # keep track of training and validation loss\n",
    "        train_loss = 0.0\n",
    "        valid_loss = 0.0\n",
    "\n",
    "        ###################\n",
    "        # train the model #\n",
    "        ###################\n",
    "        model.train()\n",
    "        for batch_idx, (data, target) in enumerate(train_loader):\n",
    "            # move tensors to GPU if CUDA is available\n",
    "            data = data.to(device)\n",
    "            target = target.to(device)\n",
    "            model = model.to(device)\n",
    "            # clear the gradients of all optimized variables\n",
    "            optimizer.zero_grad()\n",
    "            # forward pass: compute predicted outputs by passing inputs to the model\n",
    "            output = model(data)\n",
    "            # calculate the batch loss\n",
    "            loss = criterion(output, target)\n",
    "            # backward pass: compute gradient of the loss with respect to model parameters\n",
    "            loss.backward()\n",
    "            # perform a single optimization step (parameter update)\n",
    "            optimizer.step()\n",
    "            # update training loss\n",
    "            train_loss += loss.item()*data.size(0)\n",
    "\n",
    "            # Print losses ocassionally and print to tensorboard\n",
    "            if batch_idx % 100 == 0:\n",
    "\n",
    "                writer.add_scalar('loss', train_loss, batch_idx)\n",
    "                with torch.no_grad():\n",
    "                    img_grid_real = torchvision.utils.make_grid(data, normalize=True)\n",
    "                    writer.add_image(\"Train Lung Xray Images\", img_grid_real)\n",
    "\n",
    "        ######################    \n",
    "        # validate the model #\n",
    "        ######################\n",
    "        model.eval()\n",
    "        for batch_idx, (data, target) in enumerate(valid_loader):\n",
    "\n",
    "            data = data.to(device)\n",
    "            target = target.to(device)\n",
    "            # forward pass: compute predicted outputs by passing inputs to the model\n",
    "            output = model(data)\n",
    "            # calculate the batch loss\n",
    "            loss = criterion(output, target)\n",
    "            # update average validation loss \n",
    "            valid_loss += loss.item()*data.size(0)\n",
    "\n",
    "        # calculate average losses\n",
    "        train_loss = train_loss/len(train_loader.sampler)\n",
    "        valid_loss = valid_loss/len(valid_loader.sampler)\n",
    "\n",
    "        t1 = time.time()\n",
    "        total = t1-t0\n",
    "        # print training/validation statistics \n",
    "        print('Epoch: {}/{} \\tTraining Loss: {:.6f} \\tValidation Loss: {:.6f} Duration seconds: {}'.format(\n",
    "            epoch, n_epochs, train_loss, valid_loss, total))\n",
    "        writer.add_scalar('train_loss', train_loss, batch_idx)\n",
    "        writer.add_scalar('valid_loss', valid_loss, batch_idx)\n",
    "\n",
    "\n",
    "        # save model if validation loss has decreased\n",
    "        if valid_loss <= valid_loss_min:\n",
    "            print('Validation loss decreased ({:.6f} --> {:.6f}).  Saving model ...'.format(\n",
    "            valid_loss_min,\n",
    "            valid_loss))\n",
    "            torch.save(model.state_dict(), model_path)\n",
    "            valid_loss_min = valid_loss\n",
    "        writer.add_scalar('best_valid_loss_fold', valid_loss_min, batch_idx)\n",
    "\n",
    "    valid_losses.append(valid_loss_min)\n",
    "    train_losses.append(train_loss)\n",
    "\n",
    "print(valid_losses)"
   ]
  },
  {
   "cell_type": "markdown",
   "metadata": {},
   "source": [
    "# Test classficaton on a single image."
   ]
  },
  {
   "cell_type": "code",
   "execution_count": 20,
   "metadata": {
    "scrolled": true
   },
   "outputs": [
    {
     "name": "stdout",
     "output_type": "stream",
     "text": [
      "(10, 15)\n",
      "(10, 15)\n",
      "Predicted: [-3.8501616 -2.8751068 -0.6627004 -5.85783   -2.366036  -1.8292272\n",
      " -1.4116967 -2.6529045 -2.228143  -4.6014132 -2.954578  -1.0722682\n",
      " -4.0817876 -4.1641893 -0.9618592]\n",
      "Predicted sigmoid: [0.02083305 0.05339793 0.34013325 0.0028493  0.08579956 0.13833036\n",
      " 0.19596657 0.06581022 0.09725156 0.00993789 0.04952059 0.25497198\n",
      " 0.01659715 0.01530444 0.2765061 ]\n",
      "Actual: [0. 0. 1. 0. 0. 0. 1. 0. 0. 0. 0. 0. 0. 0. 0.]\n",
      "Predicted Max : -0.6627004146575928\n",
      "Actual Max : 1.0\n",
      "Predicted Sigmoid Arg Max : 0.8807970779778823\n",
      "Actual Arg Max : 2\n",
      "-0.6627004\n",
      "\n",
      "image batch shape:  torch.Size([10, 3, 512, 512])\n",
      "single image shape:  torch.Size([3, 512, 512])\n",
      "img_1channel shape:  (512, 512)\n"
     ]
    },
    {
     "name": "stderr",
     "output_type": "stream",
     "text": [
      "Clipping input data to the valid range for imshow with RGB data ([0..1] for floats or [0..255] for integers).\n"
     ]
    },
    {
     "name": "stdout",
     "output_type": "stream",
     "text": [
      "img_3channel shape: torch.Size([512, 512, 3])\n",
      "labels: tensor([[0., 0., 1., 0., 0., 0., 0., 0., 0., 0., 0., 0., 0., 0., 0.],\n",
      "        [0., 0., 0., 0., 0., 0., 0., 0., 0., 0., 0., 0., 0., 0., 1.],\n",
      "        [0., 0., 1., 0., 0., 0., 0., 0., 0., 0., 0., 0., 0., 0., 0.],\n",
      "        [0., 0., 0., 0., 0., 0., 1., 0., 0., 0., 1., 0., 0., 0., 0.],\n",
      "        [0., 0., 1., 0., 0., 0., 0., 0., 0., 0., 0., 0., 0., 0., 0.],\n",
      "        [0., 0., 1., 0., 0., 0., 0., 0., 0., 0., 1., 0., 0., 0., 0.],\n",
      "        [0., 0., 1., 0., 0., 0., 0., 0., 0., 0., 0., 0., 0., 0., 0.],\n",
      "        [0., 0., 1., 0., 0., 0., 1., 0., 0., 0., 0., 0., 0., 0., 0.],\n",
      "        [0., 0., 0., 0., 0., 0., 0., 0., 0., 0., 0., 0., 0., 0., 1.],\n",
      "        [0., 0., 1., 0., 0., 0., 1., 0., 0., 0., 0., 1., 0., 0., 0.]])\n"
     ]
    },
    {
     "data": {
      "image/png": "[encoded data removed]",
      "text/plain": [
       "<Figure size 432x288 with 1 Axes>"
      ]
     },
     "metadata": {
      "needs_background": "light"
     },
     "output_type": "display_data"
    },
    {
     "data": {
      "image/png": "[encoded data removed]",
      "text/plain": [
       "<Figure size 432x288 with 1 Axes>"
      ]
     },
     "metadata": {
      "needs_background": "light"
     },
     "output_type": "display_data"
    }
   ],
   "source": [
    "def sigmoid(x):\n",
    "    return 1 / (1 + np.exp(-x))\n",
    "# Doing inference on cpu as it doesn't take much effort feel free to change.\n",
    "# Had some trouble loading it on GPU. \n",
    "image, label = next(iter(valid_loader))\n",
    "model = create_model()\n",
    "model.load_state_dict(torch.load(model_path, map_location='cpu'))\n",
    "model.eval()\n",
    "\n",
    "data = image.to('cpu')\n",
    "# forward pass: compute predicted outputs by passing inputs to the model\n",
    "output = model(data)\n",
    "output = output.to('cpu').detach().numpy()\n",
    "target = label.to('cpu').detach().numpy()\n",
    "cur = 7\n",
    "print(np.shape(target))\n",
    "print(np.shape(output))\n",
    "\n",
    "print(\"Predicted: {}\".format(output[cur]))\n",
    "print(\"Predicted sigmoid: {}\".format(sigmoid(output[cur])))\n",
    "\n",
    "print(\"Actual: {}\".format(target[cur]))\n",
    "\n",
    "print(\"Predicted Max : {}\".format(output[cur].max()))\n",
    "print(\"Actual Max : {}\".format(target[cur].max()))\n",
    "\n",
    "print(\"Predicted Sigmoid Arg Max : {}\".format(sigmoid(output[cur].argmax())))\n",
    "print(\"Actual Arg Max : {}\".format(target[cur].argmax()))\n",
    "\n",
    "\n",
    "print(output[cur].max())\n",
    "print(\"\\nimage batch shape: \", image.shape)\n",
    "print(\"single image shape: \", image[cur].shape)\n",
    "\n",
    "\n",
    "\n",
    "\n",
    "# 1 channel image\n",
    "img_1_channel = image.numpy()[cur][1]\n",
    "print(\"img_1channel shape: \", img_1_channel.shape)\n",
    "plt.figure()\n",
    "plt.imshow(img_1_channel)\n",
    "\n",
    "# 3 channel image\n",
    "plt.figure()\n",
    "img_3_channel = image[cur].permute(1, 2, 0)\n",
    "plt.imshow(img_3_channel, cmap='cool')\n",
    "print(\"img_3channel shape:\", img_3_channel.shape)\n",
    "\n",
    "# print label\n",
    "print(\"labels:\",label)\n"
   ]
  },
  {
   "cell_type": "code",
   "execution_count": null,
   "metadata": {},
   "outputs": [],
   "source": []
  },
  {
   "cell_type": "code",
   "execution_count": null,
   "metadata": {},
   "outputs": [],
   "source": []
  }
 ],
 "metadata": {
  "kernelspec": {
   "display_name": "Python 3",
   "language": "python",
   "name": "python3"
  },
  "language_info": {
   "codemirror_mode": {
    "name": "ipython",
    "version": 3
   },
   "file_extension": ".py",
   "mimetype": "text/x-python",
   "name": "python",
   "nbconvert_exporter": "python",
   "pygments_lexer": "ipython3",
   "version": "3.7.4"
  }
 },
 "nbformat": 4,
 "nbformat_minor": 4
}
