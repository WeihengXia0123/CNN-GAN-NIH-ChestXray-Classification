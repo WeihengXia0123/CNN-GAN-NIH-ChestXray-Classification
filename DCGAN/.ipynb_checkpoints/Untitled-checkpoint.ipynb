{
 "cells": [
  {
   "cell_type": "code",
   "execution_count": 1,
   "metadata": {},
   "outputs": [],
   "source": [
    "import pandas as pd"
   ]
  },
  {
   "cell_type": "code",
   "execution_count": 3,
   "metadata": {},
   "outputs": [
    {
     "data": {
      "text/html": [
       "<div>\n",
       "<style scoped>\n",
       "    .dataframe tbody tr th:only-of-type {\n",
       "        vertical-align: middle;\n",
       "    }\n",
       "\n",
       "    .dataframe tbody tr th {\n",
       "        vertical-align: top;\n",
       "    }\n",
       "\n",
       "    .dataframe thead th {\n",
       "        text-align: right;\n",
       "    }\n",
       "</style>\n",
       "<table border=\"1\" class=\"dataframe\">\n",
       "  <thead>\n",
       "    <tr style=\"text-align: right;\">\n",
       "      <th></th>\n",
       "      <th>Image Index</th>\n",
       "      <th>Finding Labels</th>\n",
       "      <th>Follow-up #</th>\n",
       "      <th>Patient ID</th>\n",
       "      <th>Patient Age</th>\n",
       "      <th>Patient Gender</th>\n",
       "      <th>View Position</th>\n",
       "      <th>OriginalImage[Width</th>\n",
       "      <th>Height]</th>\n",
       "      <th>OriginalImagePixelSpacing[x</th>\n",
       "      <th>y]</th>\n",
       "      <th>Unnamed: 11</th>\n",
       "    </tr>\n",
       "  </thead>\n",
       "  <tbody>\n",
       "    <tr>\n",
       "      <th>0</th>\n",
       "      <td>00000013_024.png</td>\n",
       "      <td>Mass</td>\n",
       "      <td>24</td>\n",
       "      <td>13</td>\n",
       "      <td>57</td>\n",
       "      <td>M</td>\n",
       "      <td>AP</td>\n",
       "      <td>2500</td>\n",
       "      <td>2048</td>\n",
       "      <td>0.168</td>\n",
       "      <td>0.168</td>\n",
       "      <td>NaN</td>\n",
       "    </tr>\n",
       "    <tr>\n",
       "      <th>1</th>\n",
       "      <td>00000061_001.png</td>\n",
       "      <td>Mass</td>\n",
       "      <td>1</td>\n",
       "      <td>61</td>\n",
       "      <td>77</td>\n",
       "      <td>M</td>\n",
       "      <td>PA</td>\n",
       "      <td>2530</td>\n",
       "      <td>2717</td>\n",
       "      <td>0.143</td>\n",
       "      <td>0.143</td>\n",
       "      <td>NaN</td>\n",
       "    </tr>\n",
       "    <tr>\n",
       "      <th>2</th>\n",
       "      <td>00000071_008.png</td>\n",
       "      <td>Mass</td>\n",
       "      <td>8</td>\n",
       "      <td>71</td>\n",
       "      <td>69</td>\n",
       "      <td>F</td>\n",
       "      <td>PA</td>\n",
       "      <td>2048</td>\n",
       "      <td>2500</td>\n",
       "      <td>0.168</td>\n",
       "      <td>0.168</td>\n",
       "      <td>NaN</td>\n",
       "    </tr>\n",
       "    <tr>\n",
       "      <th>3</th>\n",
       "      <td>00000079_000.png</td>\n",
       "      <td>Mass</td>\n",
       "      <td>0</td>\n",
       "      <td>79</td>\n",
       "      <td>63</td>\n",
       "      <td>M</td>\n",
       "      <td>PA</td>\n",
       "      <td>2500</td>\n",
       "      <td>2048</td>\n",
       "      <td>0.168</td>\n",
       "      <td>0.168</td>\n",
       "      <td>NaN</td>\n",
       "    </tr>\n",
       "    <tr>\n",
       "      <th>4</th>\n",
       "      <td>00000091_003.png</td>\n",
       "      <td>Mass</td>\n",
       "      <td>3</td>\n",
       "      <td>91</td>\n",
       "      <td>69</td>\n",
       "      <td>M</td>\n",
       "      <td>PA</td>\n",
       "      <td>2910</td>\n",
       "      <td>2991</td>\n",
       "      <td>0.143</td>\n",
       "      <td>0.143</td>\n",
       "      <td>NaN</td>\n",
       "    </tr>\n",
       "  </tbody>\n",
       "</table>\n",
       "</div>"
      ],
      "text/plain": [
       "        Image Index Finding Labels  Follow-up #  Patient ID  Patient Age  \\\n",
       "0  00000013_024.png           Mass           24          13           57   \n",
       "1  00000061_001.png           Mass            1          61           77   \n",
       "2  00000071_008.png           Mass            8          71           69   \n",
       "3  00000079_000.png           Mass            0          79           63   \n",
       "4  00000091_003.png           Mass            3          91           69   \n",
       "\n",
       "  Patient Gender View Position  OriginalImage[Width  Height]  \\\n",
       "0              M            AP                 2500     2048   \n",
       "1              M            PA                 2530     2717   \n",
       "2              F            PA                 2048     2500   \n",
       "3              M            PA                 2500     2048   \n",
       "4              M            PA                 2910     2991   \n",
       "\n",
       "   OriginalImagePixelSpacing[x     y]  Unnamed: 11  \n",
       "0                        0.168  0.168          NaN  \n",
       "1                        0.143  0.143          NaN  \n",
       "2                        0.168  0.168          NaN  \n",
       "3                        0.168  0.168          NaN  \n",
       "4                        0.143  0.143          NaN  "
      ]
     },
     "execution_count": 3,
     "metadata": {},
     "output_type": "execute_result"
    }
   ],
   "source": [
    "df = pd.read_csv('original_image_csv/mass.csv')\n",
    "df.head()"
   ]
  },
  {
   "cell_type": "code",
   "execution_count": 4,
   "metadata": {},
   "outputs": [
    {
     "data": {
      "text/plain": [
       "0       00000013_024.png\n",
       "1       00000061_001.png\n",
       "2       00000071_008.png\n",
       "3       00000079_000.png\n",
       "4       00000091_003.png\n",
       "              ...       \n",
       "2134    00030206_006.png\n",
       "2135    00030389_000.png\n",
       "2136    00030594_000.png\n",
       "2137    00030682_000.png\n",
       "2138    00030753_011.png\n",
       "Name: Image Index, Length: 2139, dtype: object"
      ]
     },
     "execution_count": 4,
     "metadata": {},
     "output_type": "execute_result"
    }
   ],
   "source": [
    "df.loc[:,'Image Index']"
   ]
  },
  {
   "cell_type": "code",
   "execution_count": null,
   "metadata": {},
   "outputs": [],
   "source": []
  }
 ],
 "metadata": {
  "kernelspec": {
   "display_name": "PyTorch",
   "language": "python",
   "name": "pytorch"
  },
  "language_info": {
   "codemirror_mode": {
    "name": "ipython",
    "version": 3
   },
   "file_extension": ".py",
   "mimetype": "text/x-python",
   "name": "python",
   "nbconvert_exporter": "python",
   "pygments_lexer": "ipython3",
   "version": "3.6.9"
  }
 },
 "nbformat": 4,
 "nbformat_minor": 4
}
